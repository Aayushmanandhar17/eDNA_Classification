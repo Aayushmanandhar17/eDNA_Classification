{
  "nbformat": 4,
  "nbformat_minor": 0,
  "metadata": {
    "colab": {
      "name": "EDNA research",
      "provenance": [],
      "collapsed_sections": []
    },
    "kernelspec": {
      "name": "python3",
      "display_name": "Python 3"
    },
    "language_info": {
      "name": "python"
    },
    "accelerator": "GPU"
  },
  "cells": [
    {
      "cell_type": "code",
      "source": [
        "import pandas as pd\n",
        "import warnings\n",
        "warnings.filterwarnings(\"ignore\")\n",
        "from sklearn.feature_extraction.text import CountVectorizer\n",
        "from sklearn.preprocessing import LabelEncoder\n",
        "from sklearn.preprocessing import OneHotEncoder\n",
        "from sklearn.model_selection import train_test_split\n",
        "import numpy as np\n",
        "import matplotlib.pyplot as plt"
      ],
      "metadata": {
        "id": "DZ5GZMsV9WhO"
      },
      "execution_count": null,
      "outputs": []
    },
    {
      "cell_type": "code",
      "source": [
        "from google.colab import drive\n",
        "drive.mount('/content/drive')"
      ],
      "metadata": {
        "colab": {
          "base_uri": "https://localhost:8080/"
        },
        "id": "qhStAtMM9Zgj",
        "outputId": "6626289b-715a-4c1f-c1e7-ba91402a0446"
      },
      "execution_count": null,
      "outputs": [
        {
          "output_type": "stream",
          "name": "stdout",
          "text": [
            "Drive already mounted at /content/drive; to attempt to forcibly remount, call drive.mount(\"/content/drive\", force_remount=True).\n"
          ]
        }
      ]
    },
    {
      "cell_type": "code",
      "source": [
        "file=open(\"/content/drive/MyDrive/mitofish.12S.Sep2021.tsv\")\n"
      ],
      "metadata": {
        "id": "-p0-P32491Ja"
      },
      "execution_count": null,
      "outputs": []
    },
    {
      "cell_type": "code",
      "source": [
        "df=pd.read_csv(file, sep='\\t', header=0)"
      ],
      "metadata": {
        "id": "yvs9Wrlu-HB6"
      },
      "execution_count": null,
      "outputs": []
    },
    {
      "cell_type": "markdown",
      "source": [
        "## Visualizing the DataFrame"
      ],
      "metadata": {
        "id": "0D1BrE-BMnyO"
      }
    },
    {
      "cell_type": "code",
      "source": [
        "df.head()"
      ],
      "metadata": {
        "colab": {
          "base_uri": "https://localhost:8080/",
          "height": 538
        },
        "id": "hsGnGax2-XbA",
        "outputId": "f4e57df8-a8ee-48c9-faec-b117abb2dc00"
      },
      "execution_count": null,
      "outputs": [
        {
          "output_type": "execute_result",
          "data": {
            "text/html": [
              "<div>\n",
              "<style scoped>\n",
              "    .dataframe tbody tr th:only-of-type {\n",
              "        vertical-align: middle;\n",
              "    }\n",
              "\n",
              "    .dataframe tbody tr th {\n",
              "        vertical-align: top;\n",
              "    }\n",
              "\n",
              "    .dataframe thead th {\n",
              "        text-align: right;\n",
              "    }\n",
              "</style>\n",
              "<table border=\"1\" class=\"dataframe\">\n",
              "  <thead>\n",
              "    <tr style=\"text-align: right;\">\n",
              "      <th></th>\n",
              "      <th>Accession</th>\n",
              "      <th>Gene definition</th>\n",
              "      <th>taxid</th>\n",
              "      <th>Superkingdom</th>\n",
              "      <th>Phylum</th>\n",
              "      <th>Class</th>\n",
              "      <th>Order</th>\n",
              "      <th>Family</th>\n",
              "      <th>Genus</th>\n",
              "      <th>Species</th>\n",
              "      <th>Sequence</th>\n",
              "      <th>OrderID</th>\n",
              "      <th>FamilyID</th>\n",
              "    </tr>\n",
              "  </thead>\n",
              "  <tbody>\n",
              "    <tr>\n",
              "      <th>0</th>\n",
              "      <td>AB006953</td>\n",
              "      <td>Carassius auratus langsdorfi mitochondrial DNA...</td>\n",
              "      <td>138676</td>\n",
              "      <td>Eukaryota</td>\n",
              "      <td>Chordata</td>\n",
              "      <td>Actinopteri</td>\n",
              "      <td>Cypriniformes</td>\n",
              "      <td>Cyprinidae</td>\n",
              "      <td>Carassius</td>\n",
              "      <td>Carassius langsdorfii</td>\n",
              "      <td>GATAACATCCCTATATGGTTTAGTACATAATATGCATAATATTACA...</td>\n",
              "      <td>32.0</td>\n",
              "      <td>109</td>\n",
              "    </tr>\n",
              "    <tr>\n",
              "      <th>1</th>\n",
              "      <td>AB015962</td>\n",
              "      <td>Mustelus manazo mitochondrial DNA, complete se...</td>\n",
              "      <td>79736</td>\n",
              "      <td>Eukaryota</td>\n",
              "      <td>Chordata</td>\n",
              "      <td>Chondrichthyes</td>\n",
              "      <td>Carcharhiniformes</td>\n",
              "      <td>Triakidae</td>\n",
              "      <td>Mustelus</td>\n",
              "      <td>Mustelus manazo</td>\n",
              "      <td>GCTAGTGTAGCTTAATTTAAAGCATGGCACTGAAGATGCTAAGATG...</td>\n",
              "      <td>7.0</td>\n",
              "      <td>27</td>\n",
              "    </tr>\n",
              "    <tr>\n",
              "      <th>2</th>\n",
              "      <td>AB016274</td>\n",
              "      <td>Sigmops gracilis mitochondrial genes, complete...</td>\n",
              "      <td>48457</td>\n",
              "      <td>Eukaryota</td>\n",
              "      <td>Chordata</td>\n",
              "      <td>Actinopteri</td>\n",
              "      <td>Stomiiformes</td>\n",
              "      <td>Gonostomatidae</td>\n",
              "      <td>Sigmops</td>\n",
              "      <td>Sigmops gracilis</td>\n",
              "      <td>GTTATCGTAGCTTACTTCTAAAGCCTAGCCCTGAAAATGCTAAGAT...</td>\n",
              "      <td>42.0</td>\n",
              "      <td>200</td>\n",
              "    </tr>\n",
              "    <tr>\n",
              "      <th>3</th>\n",
              "      <td>AB018224</td>\n",
              "      <td>Coryphaenoides armatus mitochondrial gene for ...</td>\n",
              "      <td>76798</td>\n",
              "      <td>Eukaryota</td>\n",
              "      <td>Chordata</td>\n",
              "      <td>Actinopteri</td>\n",
              "      <td>Gadiformes</td>\n",
              "      <td>Macrouridae</td>\n",
              "      <td>Coryphaenoides</td>\n",
              "      <td>Coryphaenoides armatus</td>\n",
              "      <td>CATAAAGGTTTGGTCCTGGCTTTACTATCAACTCTAACCTGATTTA...</td>\n",
              "      <td>51.0</td>\n",
              "      <td>243</td>\n",
              "    </tr>\n",
              "    <tr>\n",
              "      <th>4</th>\n",
              "      <td>AB018225</td>\n",
              "      <td>Coryphaenoides yaquinae mitochondrial gene for...</td>\n",
              "      <td>83387</td>\n",
              "      <td>Eukaryota</td>\n",
              "      <td>Chordata</td>\n",
              "      <td>Actinopteri</td>\n",
              "      <td>Gadiformes</td>\n",
              "      <td>Macrouridae</td>\n",
              "      <td>Coryphaenoides</td>\n",
              "      <td>Coryphaenoides yaquinae</td>\n",
              "      <td>CATAAAGGTTTGGTCCTAGCTTTACTATCAACTCTAACCTGATTTA...</td>\n",
              "      <td>51.0</td>\n",
              "      <td>243</td>\n",
              "    </tr>\n",
              "  </tbody>\n",
              "</table>\n",
              "</div>"
            ],
            "text/plain": [
              "  Accession  ... FamilyID\n",
              "0  AB006953  ...      109\n",
              "1  AB015962  ...       27\n",
              "2  AB016274  ...      200\n",
              "3  AB018224  ...      243\n",
              "4  AB018225  ...      243\n",
              "\n",
              "[5 rows x 13 columns]"
            ]
          },
          "metadata": {},
          "execution_count": 235
        }
      ]
    },
    {
      "cell_type": "markdown",
      "source": [
        "# Some of the possible columns that can be used to classify the sequence are:\n",
        "1. Species\n",
        "2. Genus\n",
        "3. Family\n",
        "\n",
        "One of the important trait of a good Data Scientist is to check if there is enough number of samples that represent every class. Likewise, we should also check bias in the number of samples, where one class has huge number of samples while the other has few. \n",
        "<br>\n",
        "Looking at the requirement, I have decided to select the column that has atleast 300 DNA samples that can be used to represent each class."
      ],
      "metadata": {
        "id": "bpp2sYZsRdLE"
      }
    },
    {
      "cell_type": "markdown",
      "source": [
        "## Visualizing the data distribution of number of samples for each class\n",
        "### Requirement\n",
        "1. A class must represent atleast 300 DNA sample. Having a fair amount of samples for each class helps to reduce bias in the data and also increases classificaiton accuracy"
      ],
      "metadata": {
        "id": "A_GdjSveMuEE"
      }
    },
    {
      "cell_type": "markdown",
      "source": [
        "### Visualizing number of sequence sample for each Genus\n",
        "Looking at the plot, we can understand that there is fair amount of Genus that has more than 300 DNA samples representing each Genus"
      ],
      "metadata": {
        "id": "itjVRo2UW2YK"
      }
    },
    {
      "cell_type": "code",
      "source": [
        "df[['Genus']].value_counts().plot(kind='hist',figsize=(3,3),range=[300,1000], title=\"Number of Sequence sample vs No of Genus\")"
      ],
      "metadata": {
        "colab": {
          "base_uri": "https://localhost:8080/",
          "height": 245
        },
        "id": "0NT3xj36OdQg",
        "outputId": "7a5e13a3-7b43-47d8-d9b7-e4df4f761aaa"
      },
      "execution_count": null,
      "outputs": [
        {
          "output_type": "execute_result",
          "data": {
            "text/plain": [
              "<matplotlib.axes._subplots.AxesSubplot at 0x7fe3470c64d0>"
            ]
          },
          "metadata": {},
          "execution_count": 236
        },
        {
          "output_type": "display_data",
          "data": {
            "image/png": "[encoded data removed]",
            "text/plain": [
              "<Figure size 216x216 with 1 Axes>"
            ]
          },
          "metadata": {
            "needs_background": "light"
          }
        }
      ]
    },
    {
      "cell_type": "markdown",
      "source": [
        "### Visualizing number of sequence sample for each Class\n",
        "Looking at the plot, we can find that there are many family that has more than 300 sequence representing each family. "
      ],
      "metadata": {
        "id": "0NNE8tIYXXWj"
      }
    },
    {
      "cell_type": "code",
      "source": [
        "df[['Family']].value_counts().plot(kind='hist',figsize=(3,3),range=[300,1000], title=\"Number of Sequence sample vs No of Classes\")"
      ],
      "metadata": {
        "colab": {
          "base_uri": "https://localhost:8080/",
          "height": 245
        },
        "id": "m132iEo3RBd7",
        "outputId": "e8404927-384f-4570-9cca-36704e9907f4"
      },
      "execution_count": null,
      "outputs": [
        {
          "output_type": "execute_result",
          "data": {
            "text/plain": [
              "<matplotlib.axes._subplots.AxesSubplot at 0x7fe347036210>"
            ]
          },
          "metadata": {},
          "execution_count": 237
        },
        {
          "output_type": "display_data",
          "data": {
            "image/png": "[encoded data removed]",
            "text/plain": [
              "<Figure size 216x216 with 1 Axes>"
            ]
          },
          "metadata": {
            "needs_background": "light"
          }
        }
      ]
    },
    {
      "cell_type": "markdown",
      "source": [
        "### Visualizing number of sequence sample for each Species\n",
        "Looking at the plot, we can find there are four species that has more than 300 DNA sequence sample. "
      ],
      "metadata": {
        "id": "031gwnYnXt73"
      }
    },
    {
      "cell_type": "code",
      "source": [
        "df[['Species']].value_counts().plot(kind='hist',figsize=(3,3),range=[300,1000], title=\"Number of Sequence sample vs No of Specis\")"
      ],
      "metadata": {
        "colab": {
          "base_uri": "https://localhost:8080/",
          "height": 245
        },
        "id": "OegxnNKvX0Zy",
        "outputId": "5e6984e9-d799-4aad-8118-52d06f5a8a67"
      },
      "execution_count": null,
      "outputs": [
        {
          "output_type": "execute_result",
          "data": {
            "text/plain": [
              "<matplotlib.axes._subplots.AxesSubplot at 0x7fe346ffb5d0>"
            ]
          },
          "metadata": {},
          "execution_count": 238
        },
        {
          "output_type": "display_data",
          "data": {
            "image/png": "[encoded data removed]",
            "text/plain": [
              "<Figure size 216x216 with 1 Axes>"
            ]
          },
          "metadata": {
            "needs_background": "light"
          }
        }
      ]
    },
    {
      "cell_type": "markdown",
      "source": [
        "## Looking at the above histograms, we can find both Genus and Family having good class to sequence ration. For this project, I am going to go with Family as our main class we are going to classfy based on the DNA sequence"
      ],
      "metadata": {
        "id": "8DtFlltsYrLJ"
      }
    },
    {
      "cell_type": "markdown",
      "source": [
        "## I am going to take top 15 family classes with highest number of sequence sample"
      ],
      "metadata": {
        "id": "Nr21Yyx9VJIg"
      }
    },
    {
      "cell_type": "code",
      "source": [
        "select_family=df['Family'].value_counts()[:15].index"
      ],
      "metadata": {
        "id": "dOP6qM_kEH2I"
      },
      "execution_count": null,
      "outputs": []
    },
    {
      "cell_type": "code",
      "source": [
        "select_family=list(select_family)\n",
        "print(select_family)"
      ],
      "metadata": {
        "colab": {
          "base_uri": "https://localhost:8080/"
        },
        "id": "Z9ZeyrXlGnre",
        "outputId": "5b90e766-7884-431b-b0b2-f71cfc1f5125"
      },
      "execution_count": null,
      "outputs": [
        {
          "output_type": "stream",
          "name": "stdout",
          "text": [
            "['Gobiidae', 'Clupeidae', 'Cyprinidae', 'Serranidae', 'Labridae', 'Salmonidae', 'Syngnathidae', 'Leuciscidae', 'Cottidae', 'Osphronemidae', 'Loricariidae', 'Cichlidae', 'Characidae', 'Blenniidae', 'Scombridae']\n"
          ]
        }
      ]
    },
    {
      "cell_type": "code",
      "source": [
        "new_df=df[(df['Family'].apply(lambda x: x in select_family))]"
      ],
      "metadata": {
        "id": "AQpFdN7ALOx3"
      },
      "execution_count": null,
      "outputs": []
    },
    {
      "cell_type": "markdown",
      "source": [
        "## Only selecting the sequence and Genus column from the dataset"
      ],
      "metadata": {
        "id": "cj2uU-Fv-Z4J"
      }
    },
    {
      "cell_type": "code",
      "source": [
        "new_df=new_df[['Family','Sequence']]"
      ],
      "metadata": {
        "id": "eNBNrgmG-gSq"
      },
      "execution_count": null,
      "outputs": []
    },
    {
      "cell_type": "code",
      "source": [
        "new_df.head()"
      ],
      "metadata": {
        "colab": {
          "base_uri": "https://localhost:8080/",
          "height": 206
        },
        "id": "mfizndKe-jpc",
        "outputId": "321eaaa1-65f4-40e1-ddbc-108c97a8dc96"
      },
      "execution_count": null,
      "outputs": [
        {
          "output_type": "execute_result",
          "data": {
            "text/html": [
              "<div>\n",
              "<style scoped>\n",
              "    .dataframe tbody tr th:only-of-type {\n",
              "        vertical-align: middle;\n",
              "    }\n",
              "\n",
              "    .dataframe tbody tr th {\n",
              "        vertical-align: top;\n",
              "    }\n",
              "\n",
              "    .dataframe thead th {\n",
              "        text-align: right;\n",
              "    }\n",
              "</style>\n",
              "<table border=\"1\" class=\"dataframe\">\n",
              "  <thead>\n",
              "    <tr style=\"text-align: right;\">\n",
              "      <th></th>\n",
              "      <th>Family</th>\n",
              "      <th>Sequence</th>\n",
              "    </tr>\n",
              "  </thead>\n",
              "  <tbody>\n",
              "    <tr>\n",
              "      <th>0</th>\n",
              "      <td>Cyprinidae</td>\n",
              "      <td>GATAACATCCCTATATGGTTTAGTACATAATATGCATAATATTACA...</td>\n",
              "    </tr>\n",
              "    <tr>\n",
              "      <th>30</th>\n",
              "      <td>Gobiidae</td>\n",
              "      <td>AGGGGCCCAAGTTGACAGACTCCGGCATAAAAAGTGGCTAATACAA...</td>\n",
              "    </tr>\n",
              "    <tr>\n",
              "      <th>31</th>\n",
              "      <td>Gobiidae</td>\n",
              "      <td>AGGGGCCCAAGTTGACAGACTCCGGCATAAAAAGTGGCTAATACAG...</td>\n",
              "    </tr>\n",
              "    <tr>\n",
              "      <th>32</th>\n",
              "      <td>Gobiidae</td>\n",
              "      <td>AGAGGCCCAAGTTGACAAACCTCGGCATAAAAAGTGGTTAATACAG...</td>\n",
              "    </tr>\n",
              "    <tr>\n",
              "      <th>33</th>\n",
              "      <td>Gobiidae</td>\n",
              "      <td>AGAGGCCCAAGTTGACAAATTTCGGCATAAAAAGTGATTAATATAT...</td>\n",
              "    </tr>\n",
              "  </tbody>\n",
              "</table>\n",
              "</div>"
            ],
            "text/plain": [
              "        Family                                           Sequence\n",
              "0   Cyprinidae  GATAACATCCCTATATGGTTTAGTACATAATATGCATAATATTACA...\n",
              "30    Gobiidae  AGGGGCCCAAGTTGACAGACTCCGGCATAAAAAGTGGCTAATACAA...\n",
              "31    Gobiidae  AGGGGCCCAAGTTGACAGACTCCGGCATAAAAAGTGGCTAATACAG...\n",
              "32    Gobiidae  AGAGGCCCAAGTTGACAAACCTCGGCATAAAAAGTGGTTAATACAG...\n",
              "33    Gobiidae  AGAGGCCCAAGTTGACAAATTTCGGCATAAAAAGTGATTAATATAT..."
            ]
          },
          "metadata": {},
          "execution_count": 349
        }
      ]
    },
    {
      "cell_type": "markdown",
      "source": [
        "### Barplot showing nubmer of sequence for each Family Class"
      ],
      "metadata": {
        "id": "hfNUjzxSd5qR"
      }
    },
    {
      "cell_type": "code",
      "source": [
        "fig = plt.figure(figsize=(18,8))\n",
        "ax = fig.add_axes([0,0,1,1])\n",
        "Genus =new_df['Family'].value_counts().index\n",
        "number_of_seq =new_df['Family'].value_counts().values\n",
        "ax.bar(Genus,number_of_seq)\n",
        "ax.set_ylabel('Number of DNA Sequence')\n",
        "ax.set_xlabel(\"Family\")\n",
        "ax.set_title('Number of sequence for each Family Class')\n",
        "plt.show()"
      ],
      "metadata": {
        "colab": {
          "base_uri": "https://localhost:8080/",
          "height": 674
        },
        "id": "6YA1JletcpLA",
        "outputId": "3f142a73-53cd-4322-fe46-fff8c7f4510d"
      },
      "execution_count": null,
      "outputs": [
        {
          "output_type": "display_data",
          "data": {
            "image/png": "[encoded data removed]",
            "text/plain": [
              "<Figure size 1296x576 with 1 Axes>"
            ]
          },
          "metadata": {
            "needs_background": "light"
          }
        }
      ]
    },
    {
      "cell_type": "markdown",
      "source": [
        "## Adding the length of DNA sequence column to the Dataframe"
      ],
      "metadata": {
        "id": "09kkgmFG-lCz"
      }
    },
    {
      "cell_type": "code",
      "source": [
        "new_df['Sequence_length']= new_df['Sequence'].apply(lambda x: len(x))"
      ],
      "metadata": {
        "id": "duJIKDoD-s8B"
      },
      "execution_count": null,
      "outputs": []
    },
    {
      "cell_type": "code",
      "source": [
        "new_df.head()"
      ],
      "metadata": {
        "colab": {
          "base_uri": "https://localhost:8080/",
          "height": 206
        },
        "id": "sJaJnBOJ-wBc",
        "outputId": "01f50c59-1d3d-4a58-f04c-b159bd7b9053"
      },
      "execution_count": null,
      "outputs": [
        {
          "output_type": "execute_result",
          "data": {
            "text/html": [
              "<div>\n",
              "<style scoped>\n",
              "    .dataframe tbody tr th:only-of-type {\n",
              "        vertical-align: middle;\n",
              "    }\n",
              "\n",
              "    .dataframe tbody tr th {\n",
              "        vertical-align: top;\n",
              "    }\n",
              "\n",
              "    .dataframe thead th {\n",
              "        text-align: right;\n",
              "    }\n",
              "</style>\n",
              "<table border=\"1\" class=\"dataframe\">\n",
              "  <thead>\n",
              "    <tr style=\"text-align: right;\">\n",
              "      <th></th>\n",
              "      <th>Family</th>\n",
              "      <th>Sequence</th>\n",
              "      <th>Sequence_length</th>\n",
              "    </tr>\n",
              "  </thead>\n",
              "  <tbody>\n",
              "    <tr>\n",
              "      <th>0</th>\n",
              "      <td>Cyprinidae</td>\n",
              "      <td>GATAACATCCCTATATGGTTTAGTACATAATATGCATAATATTACA...</td>\n",
              "      <td>16578</td>\n",
              "    </tr>\n",
              "    <tr>\n",
              "      <th>30</th>\n",
              "      <td>Gobiidae</td>\n",
              "      <td>AGGGGCCCAAGTTGACAGACTCCGGCATAAAAAGTGGCTAATACAA...</td>\n",
              "      <td>713</td>\n",
              "    </tr>\n",
              "    <tr>\n",
              "      <th>31</th>\n",
              "      <td>Gobiidae</td>\n",
              "      <td>AGGGGCCCAAGTTGACAGACTCCGGCATAAAAAGTGGCTAATACAG...</td>\n",
              "      <td>712</td>\n",
              "    </tr>\n",
              "    <tr>\n",
              "      <th>32</th>\n",
              "      <td>Gobiidae</td>\n",
              "      <td>AGAGGCCCAAGTTGACAAACCTCGGCATAAAAAGTGGTTAATACAG...</td>\n",
              "      <td>711</td>\n",
              "    </tr>\n",
              "    <tr>\n",
              "      <th>33</th>\n",
              "      <td>Gobiidae</td>\n",
              "      <td>AGAGGCCCAAGTTGACAAATTTCGGCATAAAAAGTGATTAATATAT...</td>\n",
              "      <td>712</td>\n",
              "    </tr>\n",
              "  </tbody>\n",
              "</table>\n",
              "</div>"
            ],
            "text/plain": [
              "        Family  ... Sequence_length\n",
              "0   Cyprinidae  ...           16578\n",
              "30    Gobiidae  ...             713\n",
              "31    Gobiidae  ...             712\n",
              "32    Gobiidae  ...             711\n",
              "33    Gobiidae  ...             712\n",
              "\n",
              "[5 rows x 3 columns]"
            ]
          },
          "metadata": {},
          "execution_count": 355
        }
      ]
    },
    {
      "cell_type": "code",
      "source": [
        "len(new_df)"
      ],
      "metadata": {
        "colab": {
          "base_uri": "https://localhost:8080/"
        },
        "id": "PQGQgtHhlLXc",
        "outputId": "604cb975-067a-4c40-d9f6-6aff94005959"
      },
      "execution_count": null,
      "outputs": [
        {
          "output_type": "execute_result",
          "data": {
            "text/plain": [
              "13280"
            ]
          },
          "metadata": {},
          "execution_count": 356
        }
      ]
    },
    {
      "cell_type": "markdown",
      "source": [
        "## Visualizing the distribution of the sequnce length \n",
        "Analizing the histogram, we can find the sequence length ranging from 104 to 17,227"
      ],
      "metadata": {
        "id": "HvYmCVU0ecbq"
      }
    },
    {
      "cell_type": "code",
      "source": [
        "new_df.hist(column=\"Sequence_length\", figsize=(8,4), bins=50)"
      ],
      "metadata": {
        "colab": {
          "base_uri": "https://localhost:8080/",
          "height": 317
        },
        "id": "yKocwURN-xwB",
        "outputId": "9ab559d9-d838-4131-8a68-0e70d1a94daf"
      },
      "execution_count": null,
      "outputs": [
        {
          "output_type": "execute_result",
          "data": {
            "text/plain": [
              "array([[<matplotlib.axes._subplots.AxesSubplot object at 0x7fe25b5abc10>]],\n",
              "      dtype=object)"
            ]
          },
          "metadata": {},
          "execution_count": 354
        },
        {
          "output_type": "display_data",
          "data": {
            "image/png": "[encoded data removed]",
            "text/plain": [
              "<Figure size 576x288 with 1 Axes>"
            ]
          },
          "metadata": {
            "needs_background": "light"
          }
        }
      ]
    },
    {
      "cell_type": "markdown",
      "source": [
        "## Converting the sequence into a 3-merse sequence with the stride of 1. We will later count the total number of occurence of a unique 3merse sequence in a sequence sample.\n"
      ],
      "metadata": {
        "id": "zHwP7rzPlkUG"
      }
    },
    {
      "cell_type": "code",
      "source": [
        "def getKmers(sequence, size=3):\n",
        "    return [sequence[x:x+size] for x in range(len(sequence) - size + 1)]"
      ],
      "metadata": {
        "id": "dwyg9lUDAa-V"
      },
      "execution_count": null,
      "outputs": []
    },
    {
      "cell_type": "code",
      "source": [
        "new_df['words'] = new_df.apply(lambda x: getKmers(x['Sequence']), axis=1)"
      ],
      "metadata": {
        "id": "M6grabr7AxKW"
      },
      "execution_count": null,
      "outputs": []
    },
    {
      "cell_type": "code",
      "source": [
        "new_df['sentence']=new_df['words'].apply(lambda x: ' '.join(x))"
      ],
      "metadata": {
        "id": "Y6Co8_frlJGX"
      },
      "execution_count": null,
      "outputs": []
    },
    {
      "cell_type": "markdown",
      "source": [
        "#converting the 3-merse sequence to a matrix of token counts"
      ],
      "metadata": {
        "id": "n9-JdhQyle4K"
      }
    },
    {
      "cell_type": "code",
      "source": [
        "corpus=list(new_df['sentence'])\n",
        "vectorizer=CountVectorizer()\n",
        "X=vectorizer.fit_transform(corpus)"
      ],
      "metadata": {
        "id": "2FBBbNelm8uI"
      },
      "execution_count": null,
      "outputs": []
    },
    {
      "cell_type": "markdown",
      "source": [
        "## Visualizing all our feature array\n",
        "The length of our feature array is 271"
      ],
      "metadata": {
        "id": "XkNM-ioZnFc4"
      }
    },
    {
      "cell_type": "code",
      "source": [
        "features=vectorizer.get_feature_names()\n",
        "print(features)\n"
      ],
      "metadata": {
        "colab": {
          "base_uri": "https://localhost:8080/"
        },
        "id": "v7bul0sGnL52",
        "outputId": "369c8cd3-0f85-4755-b8a8-fb8dd58c0236"
      },
      "execution_count": null,
      "outputs": [
        {
          "output_type": "stream",
          "name": "stdout",
          "text": [
            "['aaa', 'aac', 'aag', 'aak', 'aam', 'aan', 'aar', 'aas', 'aat', 'aaw', 'aay', 'aca', 'acb', 'acc', 'acg', 'ack', 'acm', 'acn', 'acr', 'acs', 'act', 'acw', 'acy', 'aga', 'agc', 'agd', 'agg', 'agh', 'agk', 'agm', 'agn', 'agr', 'ags', 'agt', 'agw', 'agy', 'aka', 'akc', 'akt', 'ama', 'amc', 'amg', 'amm', 'amt', 'ana', 'anc', 'ang', 'ann', 'anr', 'ant', 'any', 'ara', 'arc', 'arg', 'arm', 'arr', 'art', 'ary', 'asa', 'asc', 'asg', 'ast', 'asy', 'ata', 'atb', 'atc', 'atg', 'atk', 'atm', 'atn', 'atr', 'att', 'atw', 'aty', 'awa', 'awc', 'awg', 'awk', 'awt', 'aww', 'awy', 'aya', 'ayc', 'ayg', 'ayk', 'ayr', 'ayt', 'ayy', 'bga', 'bta', 'caa', 'cac', 'cag', 'cak', 'cam', 'can', 'car', 'cas', 'cat', 'caw', 'cay', 'cbt', 'cca', 'ccc', 'ccg', 'cck', 'ccm', 'ccn', 'ccr', 'ccs', 'cct', 'ccv', 'ccw', 'ccy', 'cga', 'cgc', 'cgg', 'cgk', 'cgm', 'cgn', 'cgr', 'cgs', 'cgt', 'cgw', 'cgy', 'ckc', 'ckg', 'ckk', 'ckt', 'cma', 'cmc', 'cmg', 'cmm', 'cmt', 'cna', 'cnc', 'cng', 'cnn', 'cnt', 'cra', 'crc', 'crg', 'crr', 'crs', 'crt', 'crw', 'csa', 'csc', 'csg', 'csm', 'csr', 'cst', 'csy', 'cta', 'ctc', 'ctd', 'ctg', 'ctk', 'ctm', 'ctn', 'ctr', 'cts', 'ctt', 'ctw', 'cty', 'cvt', 'cwa', 'cwc', 'cwt', 'cww', 'cya', 'cyc', 'cyg', 'cyk', 'cyt', 'cyy', 'dag', 'dga', 'dgt', 'gaa', 'gac', 'gag', 'gak', 'gam', 'gan', 'gar', 'gas', 'gat', 'gaw', 'gay', 'gca', 'gcc', 'gcg', 'gck', 'gcm', 'gcn', 'gcr', 'gcs', 'gct', 'gcw', 'gcy', 'gdg', 'gga', 'ggc', 'ggg', 'ggk', 'ggm', 'ggn', 'ggr', 'ggs', 'ggt', 'ggw', 'ggy', 'ght', 'gka', 'gkc', 'gkg', 'gkt', 'gky', 'gma', 'gmc', 'gmg', 'gmt', 'gna', 'gnc', 'gng', 'gnn', 'gnt', 'gra', 'grc', 'grg', 'grr', 'grt', 'gsa', 'gsc', 'gsg', 'gsm', 'gsr', 'gst', 'gsy', 'gta', 'gtc', 'gtg', 'gtk', 'gtm', 'gtn', 'gtr', 'gts', 'gtt', 'gtw', 'gty', 'gwa', 'gwc', 'gwg', 'gya', 'gyc', 'gyg', 'gyr', 'gyt', 'gyy', 'hta', 'kaa', 'kac', 'kag', 'kat', 'kca', 'kcc', 'kcg', 'kcr', 'kct', 'kga', 'kgc', 'kgg', 'kgs', 'kgt', 'kkc', 'kkr', 'kks', 'kra', 'krk', 'krs', 'kry', 'ksa', 'kst', 'kta', 'ktc', 'ktg', 'ktm', 'ktt', 'ktw', 'kwk', 'kyc', 'maa', 'mac', 'mag', 'mat', 'mca', 'mcc', 'mcg', 'mcs', 'mct', 'mga', 'mgc', 'mgg', 'mgk', 'mma', 'mmg', 'mmm', 'mms', 'mmw', 'mrc', 'mrt', 'mst', 'mta', 'mtc', 'mtg', 'mtt', 'mtw', 'mwc', 'mwg', 'naa', 'nac', 'nag', 'nan', 'nat', 'nca', 'ncc', 'ncg', 'ncn', 'nct', 'nga', 'ngc', 'ngg', 'ngn', 'ngt', 'nna', 'nnc', 'nng', 'nnn', 'nnt', 'nra', 'nta', 'ntc', 'ntg', 'ntn', 'ntt', 'nya', 'raa', 'rac', 'rag', 'ran', 'rar', 'rat', 'rca', 'rcc', 'rcg', 'rcs', 'rct', 'rcy', 'rga', 'rgc', 'rgg', 'rgs', 'rgt', 'rgy', 'rkt', 'rmr', 'rra', 'rrc', 'rrg', 'rrt', 'rry', 'rsc', 'rst', 'rta', 'rtc', 'rtg', 'rts', 'rtt', 'rtw', 'rty', 'rwa', 'rya', 'ryr', 'ryt', 'ryw', 'ryy', 'saa', 'sac', 'sag', 'sat', 'sca', 'scc', 'scg', 'sct', 'sga', 'sgc', 'sgg', 'sgt', 'skr', 'skw', 'smc', 'smm', 'smt', 'src', 'srt', 'sry', 'sta', 'stc', 'stg', 'str', 'stt', 'sya', 'syt', 'taa', 'tac', 'tag', 'tak', 'tam', 'tan', 'tar', 'tas', 'tat', 'taw', 'tay', 'tbg', 'tca', 'tcc', 'tcg', 'tck', 'tcm', 'tcn', 'tcr', 'tcs', 'tct', 'tcw', 'tcy', 'tda', 'tdg', 'tga', 'tgc', 'tgg', 'tgk', 'tgm', 'tgn', 'tgr', 'tgs', 'tgt', 'tgy', 'tkc', 'tkg', 'tkt', 'tma', 'tmc', 'tmg', 'tmm', 'tmr', 'tmt', 'tmw', 'tna', 'tnc', 'tng', 'tnn', 'tnt', 'tra', 'trc', 'trg', 'trt', 'trw', 'try', 'tsa', 'tsc', 'tsg', 'tsk', 'tst', 'tta', 'ttc', 'ttd', 'ttg', 'ttk', 'ttm', 'ttn', 'ttr', 'tts', 'ttt', 'ttw', 'tty', 'twa', 'twc', 'twg', 'twm', 'twt', 'tww', 'twy', 'tya', 'tyc', 'tyg', 'tyr', 'tyt', 'tyw', 'tyy', 'vtc', 'waa', 'wac', 'wag', 'war', 'wat', 'way', 'wca', 'wcc', 'wcm', 'wct', 'wcy', 'wga', 'wgc', 'wgg', 'wgy', 'wkk', 'wkr', 'wmg', 'wta', 'wtc', 'wtg', 'wtr', 'wtt', 'wtw', 'wwa', 'wwg', 'www', 'wya', 'wyg', 'wyt', 'yaa', 'yac', 'yag', 'yar', 'yat', 'yay', 'yca', 'ycc', 'ycg', 'ycr', 'yct', 'ycy', 'yga', 'ygc', 'ygg', 'ygs', 'ygt', 'yka', 'ykg', 'ykr', 'yks', 'yra', 'yrc', 'yrg', 'yrs', 'yrt', 'yry', 'yta', 'ytc', 'ytg', 'ytm', 'ytr', 'ytt', 'ytw', 'yty', 'ywa', 'ywc', 'yya', 'yyc', 'yyg', 'yyk', 'yyr', 'yyt', 'yyy']\n"
          ]
        }
      ]
    },
    {
      "cell_type": "code",
      "source": [
        "len(features)"
      ],
      "metadata": {
        "colab": {
          "base_uri": "https://localhost:8080/"
        },
        "id": "heloPj-mQJSb",
        "outputId": "28391f81-640c-4b15-e7cf-b74de9f8a295"
      },
      "execution_count": null,
      "outputs": [
        {
          "output_type": "execute_result",
          "data": {
            "text/plain": [
              "576"
            ]
          },
          "metadata": {},
          "execution_count": 261
        }
      ]
    },
    {
      "cell_type": "markdown",
      "source": [
        "# Mapping all our feature with the feature array\n",
        "###This technique invloves counting the number of times the feature was detected in our sequence data"
      ],
      "metadata": {
        "id": "ufDtauYCnPLv"
      }
    },
    {
      "cell_type": "code",
      "source": [
        "X=X.toarray()"
      ],
      "metadata": {
        "id": "42XytjTtnRIw"
      },
      "execution_count": null,
      "outputs": []
    },
    {
      "cell_type": "markdown",
      "source": [
        "## Visualizing a simple feature map for the first sequence\n"
      ],
      "metadata": {
        "id": "LzCydkQ2nvJO"
      }
    },
    {
      "cell_type": "code",
      "source": [
        "print(X[0])"
      ],
      "metadata": {
        "colab": {
          "base_uri": "https://localhost:8080/"
        },
        "id": "nTrvwvwsN5qC",
        "outputId": "9f4863a3-be6a-4538-bd72-42db50341138"
      },
      "execution_count": null,
      "outputs": [
        {
          "output_type": "stream",
          "name": "stdout",
          "text": [
            "[487 434 271   0   0   0   0   0 436   0   0 413   0 392 136   0   0   0\n",
            "   0   0 374   0   0 220 304   0 228   0   0   0   0   0   0 201   0   0\n",
            "   0   0   0   0   0   0   0   0   0   0   0   0   0   0   0   0   0   0\n",
            "   0   0   0   0   0   0   0   0   0 353   0 291 219   0   0   0   0 452\n",
            "   0   0   0   0   0   0   0   0   0   0   0   0   0   0   0   0   0   0\n",
            " 441 351 217   0   0   0   0   0 314   0   0   0 399 433 160   0   0   0\n",
            "   0   0 415   0   0   0 132 120  98   0   0   0   0   0  83   0   0   0\n",
            "   0   0   0   0   0   0   0   0   0   0   0   0   0   0   0   0   0   0\n",
            "   0   0   0   0   0   0   0   0   0 450 254   0 198   0   0   0   0   0\n",
            " 315   0   0   0   0   0   0   0   0   0   0   0   0   0   0   0   0 283\n",
            " 201 179   0   0   0   0   0 175   0   0 226 273  48   0   0   0   0   0\n",
            " 176   0   0   0 227 136 114   0   0   0   0   0 110   0   0   0   0   0\n",
            "   0   0   0   0   0   0   0   0   0   0   0   0   0   0   0   0   0   0\n",
            "   0   0   0   0   0   0 200  94  91   0   0   0   0   0 141   0   0   0\n",
            "   0   0   0   0   0   0   0   0   0   0   0   0   0   0   0   0   0   0\n",
            "   0   0   0   0   0   0   0   0   0   0   0   0   0   0   0   0   0   0\n",
            "   0   0   0   0   0   0   0   0   0   0   0   0   0   0   0   0   0   0\n",
            "   0   0   0   0   0   0   0   0   0   0   0   0   0   0   0   0   0   0\n",
            "   0   0   0   0   0   0   0   0   0   0   0   0   0   0   0   0   0   0\n",
            "   0   0   0   0   0   0   0   0   0   0   0   0   0   0   0   0   0   0\n",
            "   0   0   0   0   0   0   0   0   0   0   0   0   0   0   0   0   0   0\n",
            "   0   0   0   0   0   0   0   0   0   0   0   0   0   0   0   0   0   0\n",
            "   0   0   0   0   0   0   0   0   0   0   0   0   0   0   0   0   0   0\n",
            " 417 329 286   0   0   0   0   0 390   0   0   0 285 309  89   0   0   0\n",
            "   0   0 252   0   0   0   0 258 163 148   0   0   0   0   0 132   0   0\n",
            "   0   0   0   0   0   0   0   0   0   0   0   0   0   0   0   0   0   0\n",
            "   0   0   0   0   0   0   0 419 296   0 193   0   0   0   0   0 345   0\n",
            "   0   0   0   0   0   0   0   0   0   0   0   0   0   0   0   0   0   0\n",
            "   0   0   0   0   0   0   0   0   0   0   0   0   0   0   0   0   0   0\n",
            "   0   0   0   0   0   0   0   0   0   0   0   0   0   0   0   0   0   0\n",
            "   0   0   0   0   0   0   0   0   0   0   0   0   0   0   0   0   0   0\n",
            "   0   0   0   0   0   0   0   0   0   0   0   0   0   0   0   0   0   0]\n"
          ]
        }
      ]
    },
    {
      "cell_type": "code",
      "source": [
        "label_encoder = LabelEncoder()\n",
        "Y = label_encoder.fit_transform(list(new_df['Family']))\n"
      ],
      "metadata": {
        "id": "5ghU42Z4n2uz"
      },
      "execution_count": null,
      "outputs": []
    },
    {
      "cell_type": "markdown",
      "source": [
        "## Splitting the Data in to Training and Testing Dataset"
      ],
      "metadata": {
        "id": "KJcVLrNppGf-"
      }
    },
    {
      "cell_type": "code",
      "source": [
        "X_train, X_test, y_train, y_test =train_test_split(X, Y, test_size=0.2, random_state=42)"
      ],
      "metadata": {
        "id": "jWpCdBDspjoN"
      },
      "execution_count": null,
      "outputs": []
    },
    {
      "cell_type": "markdown",
      "source": [
        "## Using Logistic Regression"
      ],
      "metadata": {
        "id": "y6o0Nw_wsGB2"
      }
    },
    {
      "cell_type": "code",
      "source": [
        "from sklearn.linear_model import LogisticRegression\n",
        "LogReg_clf = LogisticRegression(C=0.01 ,random_state = 0)\n",
        "LogReg_clf.fit(X_train, y_train)"
      ],
      "metadata": {
        "colab": {
          "base_uri": "https://localhost:8080/"
        },
        "id": "TO0n9LiiscD_",
        "outputId": "a67614e7-6664-4f5a-836d-b614a3a1e39b"
      },
      "execution_count": null,
      "outputs": [
        {
          "output_type": "execute_result",
          "data": {
            "text/plain": [
              "LogisticRegression(C=0.01, random_state=0)"
            ]
          },
          "metadata": {},
          "execution_count": 273
        }
      ]
    },
    {
      "cell_type": "code",
      "source": [
        "y_pred = LogReg_clf.predict(X_test)"
      ],
      "metadata": {
        "id": "cyCVFTMRscPS"
      },
      "execution_count": null,
      "outputs": []
    },
    {
      "cell_type": "code",
      "source": [
        "print(\"Accuracy on test set for Logistic Regression is: \", np.mean(y_pred==y_test))"
      ],
      "metadata": {
        "colab": {
          "base_uri": "https://localhost:8080/"
        },
        "id": "GXRhPv4pr-7e",
        "outputId": "cf351b66-944c-48f1-b9b8-2d270163c96a"
      },
      "execution_count": null,
      "outputs": [
        {
          "output_type": "stream",
          "name": "stdout",
          "text": [
            "Accuracy on test set for Logistic Regression is:  0.7225150602409639\n"
          ]
        }
      ]
    },
    {
      "cell_type": "markdown",
      "source": [
        "# Using Support vector machine"
      ],
      "metadata": {
        "id": "ZG9Vzta62gYS"
      }
    },
    {
      "cell_type": "code",
      "source": [
        "from sklearn.svm import LinearSVC, SVC\n",
        "clf=SVC(C=0.01, kernel='linear')"
      ],
      "metadata": {
        "id": "x-D4iWoO7wFW"
      },
      "execution_count": null,
      "outputs": []
    },
    {
      "cell_type": "code",
      "source": [
        "clf.fit(X_train, y_train)"
      ],
      "metadata": {
        "colab": {
          "base_uri": "https://localhost:8080/"
        },
        "id": "kHkJOvPa8AL_",
        "outputId": "8c8596c1-e802-47ff-e590-cb22c008d6fb"
      },
      "execution_count": null,
      "outputs": [
        {
          "output_type": "execute_result",
          "data": {
            "text/plain": [
              "SVC(C=0.01, kernel='linear')"
            ]
          },
          "metadata": {},
          "execution_count": 277
        }
      ]
    },
    {
      "cell_type": "code",
      "source": [
        "svm_pred=clf.predict(X_test)"
      ],
      "metadata": {
        "id": "e25z9Bki8Gnn"
      },
      "execution_count": null,
      "outputs": []
    },
    {
      "cell_type": "code",
      "source": [
        "print(\"Accuracy on test set: \", np.mean(svm_pred==y_test))"
      ],
      "metadata": {
        "colab": {
          "base_uri": "https://localhost:8080/"
        },
        "id": "xRkU3FCl8bPl",
        "outputId": "e5eea629-f7ae-43e0-83c9-1b3060e4ecaa"
      },
      "execution_count": null,
      "outputs": [
        {
          "output_type": "stream",
          "name": "stdout",
          "text": [
            "Accuracy on test set:  0.9213102409638554\n"
          ]
        }
      ]
    },
    {
      "cell_type": "markdown",
      "source": [
        "## Using Self-Organizing Map to group data based on common similarities"
      ],
      "metadata": {
        "id": "miWwCMxS80Au"
      }
    },
    {
      "cell_type": "code",
      "source": [
        "#! pip install minisom"
      ],
      "metadata": {
        "id": "Vi_iFBA3Lc2x"
      },
      "execution_count": null,
      "outputs": []
    },
    {
      "cell_type": "code",
      "source": [
        "from sklearn.preprocessing import MinMaxScaler\n",
        "# Plotting our SOM\n",
        "from pylab import bone,pcolor,colorbar,plot,show\n",
        "from minisom import MiniSom\n",
        "import matplotlib.pyplot as plt\n"
      ],
      "metadata": {
        "id": "HWR3FT7ELT1b"
      },
      "execution_count": null,
      "outputs": []
    },
    {
      "cell_type": "code",
      "source": [
        "# Scaling the data in the range of 0 and 1\n",
        "sc=MinMaxScaler(feature_range=(0,1))\n",
        "scaled_x=sc.fit_transform(X)"
      ],
      "metadata": {
        "id": "SbaHij2PMggn"
      },
      "execution_count": null,
      "outputs": []
    },
    {
      "cell_type": "markdown",
      "source": [
        "## Setting the training parameters"
      ],
      "metadata": {
        "id": "dU5nnn1MLWe5"
      }
    },
    {
      "cell_type": "code",
      "source": [
        "# input_length is going to be number of column\n",
        "# learning rate= 0.5 which is deafult\n",
        "#sigma= 1 which is deafult \n",
        "som=MiniSom(x=5, y=5, input_len=576, sigma=1.0, learning_rate=0.5)\n",
        "\n",
        "#initialising our weight\n",
        "som.random_weights_init(scaled_x)\n",
        "\n",
        "#number of interation to train our som\n",
        "som.train_random(data=scaled_x,num_iteration=100)"
      ],
      "metadata": {
        "id": "BBkKf-zuLlvx"
      },
      "execution_count": null,
      "outputs": []
    },
    {
      "cell_type": "code",
      "source": [
        "plt.figure(figsize=(12,8))\n",
        "bone()\n",
        "pcolor(som.distance_map().T)\n",
        "colorbar()\n",
        "show()"
      ],
      "metadata": {
        "colab": {
          "base_uri": "https://localhost:8080/",
          "height": 487
        },
        "id": "ClWO7tzYLviV",
        "outputId": "567b17a0-2600-4cf6-ac1b-81de574a6989"
      },
      "execution_count": null,
      "outputs": [
        {
          "output_type": "display_data",
          "data": {
            "image/png": "[encoded data removed]",
            "text/plain": [
              "<Figure size 864x576 with 2 Axes>"
            ]
          },
          "metadata": {
            "needs_background": "light"
          }
        }
      ]
    },
    {
      "cell_type": "code",
      "source": [
        "mappings=som.win_map(scaled_x)"
      ],
      "metadata": {
        "id": "b2edz2sEMGPW"
      },
      "execution_count": null,
      "outputs": []
    },
    {
      "cell_type": "code",
      "source": [
        "def plot_sequence_in_index(x,y):\n",
        "  mapper_index=mappings[(x,y)]\n",
        "  inv_mapper_index=sc.inverse_transform(mapper_index)\n",
        "  index=[]\n",
        "  family_names=[]\n",
        "  for i in inv_mapper_index:\n",
        "      ind=int(round(i[0]))\n",
        "      index.append(ind)\n",
        "  for i in index:\n",
        "      family_names.append(new_df['Family'].iloc[i])\n",
        "  family_names=pd.Series(family_names)\n",
        "  fig = plt.figure(figsize=(8,5))\n",
        "  ax = fig.add_axes([0,0,1,1])\n",
        "  Genus =family_names.value_counts().index\n",
        "  number_of_seq =family_names.value_counts().values\n",
        "  ax.bar(Genus,number_of_seq)\n",
        "  ax.set_ylabel('Number of DNA Sequence in the Cluster')\n",
        "  ax.set_xlabel(\"Family\")\n",
        "  ax.set_title('Families that are grouped in the Cluster')\n",
        "  plt.show()"
      ],
      "metadata": {
        "id": "gLb9vJueTftS"
      },
      "execution_count": null,
      "outputs": []
    },
    {
      "cell_type": "code",
      "source": [
        "plot_sequence_in_index(3,4)"
      ],
      "metadata": {
        "colab": {
          "base_uri": "https://localhost:8080/",
          "height": 438
        },
        "id": "MKZASqPzMLig",
        "outputId": "f6cbdbf3-8d02-452a-b937-901e79fee975"
      },
      "execution_count": null,
      "outputs": [
        {
          "output_type": "display_data",
          "data": {
            "image/png": "[encoded data removed]",
            "text/plain": [
              "<Figure size 576x360 with 1 Axes>"
            ]
          },
          "metadata": {
            "needs_background": "light"
          }
        }
      ]
    },
    {
      "cell_type": "code",
      "source": [
        "plot_sequence_in_index(0,0)"
      ],
      "metadata": {
        "colab": {
          "base_uri": "https://localhost:8080/",
          "height": 438
        },
        "id": "-GJFAlKhT_pv",
        "outputId": "4d8bedb2-d5e8-4459-d227-eefc836b01c1"
      },
      "execution_count": null,
      "outputs": [
        {
          "output_type": "display_data",
          "data": {
            "image/png": "[encoded data removed]",
            "text/plain": [
              "<Figure size 576x360 with 1 Axes>"
            ]
          },
          "metadata": {
            "needs_background": "light"
          }
        }
      ]
    },
    {
      "cell_type": "code",
      "source": [
        "plot_sequence_in_index(1,3)"
      ],
      "metadata": {
        "colab": {
          "base_uri": "https://localhost:8080/",
          "height": 438
        },
        "id": "JLwTt8NUUKKs",
        "outputId": "86671564-d149-44bc-fa10-567f714d5e5d"
      },
      "execution_count": null,
      "outputs": [
        {
          "output_type": "display_data",
          "data": {
            "image/png": "[encoded data removed]",
            "text/plain": [
              "<Figure size 576x360 with 1 Axes>"
            ]
          },
          "metadata": {
            "needs_background": "light"
          }
        }
      ]
    },
    {
      "cell_type": "code",
      "source": [
        ""
      ],
      "metadata": {
        "id": "TdTG_ZRtUPLy"
      },
      "execution_count": null,
      "outputs": []
    }
  ]
}